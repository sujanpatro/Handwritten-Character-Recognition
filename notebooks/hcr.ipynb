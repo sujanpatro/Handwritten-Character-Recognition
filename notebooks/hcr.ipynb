{
 "cells": [
  {
   "cell_type": "code",
   "execution_count": 1,
   "metadata": {
    "pycharm": {
     "name": "#%%\n"
    }
   },
   "outputs": [],
   "source": [
    "from urllib.request import urlretrieve\n",
    "import os\n",
    "from pathlib import Path\n",
    "import kaggle\n",
    "import pandas as pd\n",
    "import numpy as np"
   ]
  },
  {
   "cell_type": "code",
   "execution_count": null,
   "metadata": {
    "pycharm": {
     "name": "#%%\n"
    }
   },
   "outputs": [],
   "source": []
  },
  {
   "cell_type": "code",
   "execution_count": null,
   "metadata": {
    "pycharm": {
     "name": "#%%\n"
    }
   },
   "outputs": [],
   "source": [
    "# !mkdir ~/.kaggle\n",
    "# !touch ~/.kaggle/kaggle.json\n",
    "\n",
    "# api_token = {\"username\":\"username\",\"key\":\"api-key\"}\n",
    "\n",
    "# import json\n",
    "\n",
    "# with open('/root/.kaggle/kaggle.json', 'w') as file:\n",
    "#     json.dump(api_token, file)\n",
    "\n",
    "# !chmod 600 ~/.kaggle/kaggle.json"
   ]
  },
  {
   "cell_type": "code",
   "execution_count": 7,
   "metadata": {
    "pycharm": {
     "name": "#%%\n"
    }
   },
   "outputs": [],
   "source": [
    "import kaggle\n",
    "\n",
    "kaggle.api.authenticate()\n",
    "\n",
    "kaggle.api.dataset_download_files(\"sachinpatel21/az-handwritten-alphabets-in-csv-format\", path='../data/', unzip=True)"
   ]
  },
  {
   "cell_type": "code",
   "execution_count": 2,
   "metadata": {
    "pycharm": {
     "name": "#%%\n"
    }
   },
   "outputs": [],
   "source": [
    "df = pd.read_csv(\"../data/A_Z Handwritten Data.csv\")"
   ]
  },
  {
   "cell_type": "code",
   "execution_count": 3,
   "metadata": {
    "pycharm": {
     "name": "#%%\n"
    }
   },
   "outputs": [],
   "source": [
    "x = df.iloc[0]"
   ]
  },
  {
   "cell_type": "code",
   "execution_count": 4,
   "metadata": {
    "pycharm": {
     "name": "#%%\n"
    }
   },
   "outputs": [],
   "source": [
    "import matplotlib.pyplot as plt"
   ]
  },
  {
   "cell_type": "code",
   "execution_count": 5,
   "metadata": {
    "pycharm": {
     "name": "#%%\n"
    }
   },
   "outputs": [],
   "source": [
    "img = x[:-1].values.reshape(28,28)"
   ]
  },
  {
   "cell_type": "code",
   "execution_count": 6,
   "metadata": {
    "pycharm": {
     "name": "#%%\n"
    }
   },
   "outputs": [
    {
     "data": {
      "text/plain": [
       "<matplotlib.image.AxesImage at 0x15523581e10>"
      ]
     },
     "execution_count": 6,
     "metadata": {},
     "output_type": "execute_result"
    },
    {
     "data": {
      "image/png": "[encoded data removed]",
      "text/plain": [
       "<Figure size 432x288 with 1 Axes>"
      ]
     },
     "metadata": {
      "needs_background": "light"
     },
     "output_type": "display_data"
    }
   ],
   "source": [
    "plt.imshow(img, cmap=\"gray\")"
   ]
  },
  {
   "cell_type": "code",
   "execution_count": 7,
   "metadata": {
    "pycharm": {
     "name": "#%%\n"
    }
   },
   "outputs": [],
   "source": [
    "import matplotlib.pyplot as plt"
   ]
  },
  {
   "cell_type": "code",
   "execution_count": 8,
   "metadata": {
    "pycharm": {
     "name": "#%%\n"
    }
   },
   "outputs": [],
   "source": [
    "img = x[:-1].values.reshape(28,28)"
   ]
  },
  {
   "cell_type": "code",
   "execution_count": 9,
   "metadata": {
    "pycharm": {
     "name": "#%%\n"
    }
   },
   "outputs": [
    {
     "data": {
      "text/plain": [
       "<matplotlib.image.AxesImage at 0x155236b6518>"
      ]
     },
     "execution_count": 9,
     "metadata": {},
     "output_type": "execute_result"
    },
    {
     "data": {
      "image/png": "[encoded data removed]",
      "text/plain": [
       "<Figure size 432x288 with 1 Axes>"
      ]
     },
     "metadata": {
      "needs_background": "light"
     },
     "output_type": "display_data"
    }
   ],
   "source": [
    "plt.imshow(img, cmap=\"gray\")"
   ]
  },
  {
   "cell_type": "code",
   "execution_count": null,
   "metadata": {
    "pycharm": {
     "name": "#%%\n"
    }
   },
   "outputs": [],
   "source": []
  },
  {
   "cell_type": "code",
   "execution_count": 10,
   "metadata": {
    "pycharm": {
     "name": "#%%\n"
    }
   },
   "outputs": [],
   "source": [
    "X, y = df.drop(columns=[df.columns[0]]).values, df[df.columns[0]].values"
   ]
  },
  {
   "cell_type": "code",
   "execution_count": 11,
   "metadata": {
    "pycharm": {
     "name": "#%%\n"
    }
   },
   "outputs": [
    {
     "data": {
      "text/plain": [
       "(372450, 784)"
      ]
     },
     "execution_count": 11,
     "metadata": {},
     "output_type": "execute_result"
    }
   ],
   "source": [
    "X.shape"
   ]
  },
  {
   "cell_type": "code",
   "execution_count": 12,
   "metadata": {
    "pycharm": {
     "name": "#%%\n"
    }
   },
   "outputs": [
    {
     "data": {
      "text/plain": [
       "(372450,)"
      ]
     },
     "execution_count": 12,
     "metadata": {},
     "output_type": "execute_result"
    }
   ],
   "source": [
    "y.shape"
   ]
  },
  {
   "cell_type": "code",
   "execution_count": 13,
   "metadata": {
    "pycharm": {
     "name": "#%%\n"
    }
   },
   "outputs": [],
   "source": [
    "from sklearn.model_selection import StratifiedShuffleSplit"
   ]
  },
  {
   "cell_type": "code",
   "execution_count": 14,
   "metadata": {
    "pycharm": {
     "name": "#%%\n"
    }
   },
   "outputs": [],
   "source": [
    "sss = StratifiedShuffleSplit(n_splits=1, test_size=0.25)"
   ]
  },
  {
   "cell_type": "code",
   "execution_count": 15,
   "metadata": {
    "pycharm": {
     "name": "#%%\n"
    }
   },
   "outputs": [],
   "source": [
    "for train, test in sss.split(X, y):\n",
    "    x_train, x_test = X[train], X[test]\n",
    "    y_train, y_test = y[train], y[test]"
   ]
  },
  {
   "cell_type": "code",
   "execution_count": 16,
   "metadata": {
    "pycharm": {
     "name": "#%%\n"
    }
   },
   "outputs": [
    {
     "data": {
      "text/plain": [
       "(279337, 784)"
      ]
     },
     "execution_count": 16,
     "metadata": {},
     "output_type": "execute_result"
    }
   ],
   "source": [
    "x_train.shape"
   ]
  },
  {
   "cell_type": "code",
   "execution_count": 17,
   "metadata": {
    "pycharm": {
     "name": "#%%\n"
    }
   },
   "outputs": [
    {
     "data": {
      "text/plain": [
       "(93113, 784)"
      ]
     },
     "execution_count": 17,
     "metadata": {},
     "output_type": "execute_result"
    }
   ],
   "source": [
    "x_test.shape"
   ]
  },
  {
   "cell_type": "code",
   "execution_count": 18,
   "metadata": {
    "pycharm": {
     "name": "#%%\n"
    }
   },
   "outputs": [
    {
     "data": {
      "text/plain": [
       "(279337,)"
      ]
     },
     "execution_count": 18,
     "metadata": {},
     "output_type": "execute_result"
    }
   ],
   "source": [
    "y_train.shape"
   ]
  },
  {
   "cell_type": "code",
   "execution_count": 19,
   "metadata": {
    "pycharm": {
     "name": "#%%\n"
    }
   },
   "outputs": [
    {
     "data": {
      "text/plain": [
       "(93113,)"
      ]
     },
     "execution_count": 19,
     "metadata": {},
     "output_type": "execute_result"
    }
   ],
   "source": [
    "y_test.shape"
   ]
  },
  {
   "cell_type": "markdown",
   "metadata": {
    "pycharm": {
     "name": "#%% md\n"
    }
   },
   "source": [
    "# Model Creation"
   ]
  },
  {
   "cell_type": "code",
   "execution_count": 20,
   "metadata": {
    "pycharm": {
     "name": "#%%\n"
    }
   },
   "outputs": [],
   "source": [
    "from sklearn.ensemble import RandomForestClassifier"
   ]
  },
  {
   "cell_type": "code",
   "execution_count": 32,
   "metadata": {
    "pycharm": {
     "name": "#%%\n"
    }
   },
   "outputs": [
    {
     "data": {
      "text/plain": [
       "RandomForestClassifier()"
      ]
     },
     "execution_count": 32,
     "metadata": {},
     "output_type": "execute_result"
    }
   ],
   "source": [
    "rf = RandomForestClassifier()\n",
    "rf.fit(x_train, y_train)"
   ]
  },
  {
   "cell_type": "code",
   "execution_count": 33,
   "metadata": {
    "pycharm": {
     "name": "#%%\n"
    }
   },
   "outputs": [
    {
     "data": {
      "text/plain": [
       "0.986059948664526"
      ]
     },
     "execution_count": 33,
     "metadata": {},
     "output_type": "execute_result"
    }
   ],
   "source": [
    "rf.score(x_test, y_test)"
   ]
  },
  {
   "cell_type": "code",
   "execution_count": 34,
   "metadata": {
    "pycharm": {
     "name": "#%%\n"
    }
   },
   "outputs": [
    {
     "data": {
      "text/plain": [
       "1.0"
      ]
     },
     "execution_count": 34,
     "metadata": {},
     "output_type": "execute_result"
    }
   ],
   "source": [
    "rf.score(x_train, y_train)"
   ]
  },
  {
   "cell_type": "code",
   "execution_count": 35,
   "metadata": {
    "pycharm": {
     "name": "#%%\n"
    }
   },
   "outputs": [
    {
     "data": {
      "image/png": "[encoded data removed]",
      "text/plain": [
       "<Figure size 1152x1440 with 16 Axes>"
      ]
     },
     "metadata": {
      "needs_background": "light"
     },
     "output_type": "display_data"
    }
   ],
   "source": [
    "import matplotlib.pyplot as plt\n",
    "fig, ax = plt.subplots(4,4, figsize=(16,20))\n",
    "count = 0\n",
    "alphabets = [chr(i+ord('a')) for i in range(26)]\n",
    "for i in range(4):\n",
    "    for j in range(4):\n",
    "        ax[i,j].imshow(x_test[count].reshape(28,28), cmap=\"gray\")\n",
    "        ax[i,j].set_title(f\"original = {alphabets[y_test[count]]}\\n predicted = {alphabets[rf.predict([x_test[count]])[0]]}\", fontsize=25)\n",
    "        ax[i,j].axis(\"off\")\n",
    "        count += 1"
   ]
  },
  {
   "cell_type": "code",
   "execution_count": null,
   "outputs": [],
   "source": [
    "from sklearn.metrics import confusion_matrix, classification_report"
   ],
   "metadata": {
    "collapsed": false,
    "pycharm": {
     "name": "#%%\n"
    }
   }
  },
  {
   "cell_type": "code",
   "execution_count": null,
   "outputs": [],
   "source": [
    "y_pred = rf.predict(x_test)\n",
    "confusion_matrix(y_pred, y_test)"
   ],
   "metadata": {
    "collapsed": false,
    "pycharm": {
     "name": "#%%\n"
    }
   }
  },
  {
   "cell_type": "code",
   "execution_count": null,
   "outputs": [],
   "source": [
    "print(classification_report(y_pred, y_test))"
   ],
   "metadata": {
    "collapsed": false,
    "pycharm": {
     "name": "#%%\n"
    }
   }
  },
  {
   "cell_type": "code",
   "execution_count": null,
   "outputs": [],
   "source": [
    "from sklearn.linear_model import LogisticRegression\n",
    "from sklearn.preprocessing import StandardScaler"
   ],
   "metadata": {
    "collapsed": false,
    "pycharm": {
     "name": "#%%\n"
    }
   }
  },
  {
   "cell_type": "code",
   "execution_count": null,
   "outputs": [],
   "source": [
    "scaler = StandardScaler()\n",
    "x_train_tf = scaler.fit_transform(x_train)\n",
    "x_test_tf = scaler.transform(x_test)"
   ],
   "metadata": {
    "collapsed": false,
    "pycharm": {
     "name": "#%%\n"
    }
   }
  },
  {
   "cell_type": "code",
   "execution_count": null,
   "outputs": [],
   "source": [
    "svc = LogisticRegression()\n",
    "svc.fit(x_train_tf, y_train)"
   ],
   "metadata": {
    "collapsed": false,
    "pycharm": {
     "name": "#%%\n"
    }
   }
  },
  {
   "cell_type": "code",
   "execution_count": null,
   "outputs": [],
   "source": [
    "svc.score(x_test_tf, y_test)"
   ],
   "metadata": {
    "collapsed": false,
    "pycharm": {
     "name": "#%%\n"
    }
   }
  },
  {
   "cell_type": "code",
   "execution_count": null,
   "outputs": [],
   "source": [
    "svc.score(x_train_tf, y_train)"
   ],
   "metadata": {
    "collapsed": false,
    "pycharm": {
     "name": "#%%\n"
    }
   }
  },
  {
   "cell_type": "code",
   "execution_count": null,
   "outputs": [],
   "source": [
    "import matplotlib.pyplot as plt\n",
    "fig, ax = plt.subplots(4,4, figsize=(16,20))\n",
    "count = 0\n",
    "alphabets = [chr(i+ord('a')) for i in range(26)]\n",
    "for i in range(4):\n",
    "    for j in range(4):\n",
    "        ax[i,j].imshow(x_test[count].reshape(28,28), cmap=\"gray\")\n",
    "        ax[i,j].set_title(f\"original = {alphabets[y_test[count]]}\\n predicted = {alphabets[svc.predict([x_test_tf[count]])[0]]}\", fontsize=25)\n",
    "        ax[i,j].axis(\"off\")\n",
    "        count += 1"
   ],
   "metadata": {
    "collapsed": false,
    "pycharm": {
     "name": "#%%\n"
    }
   }
  },
  {
   "cell_type": "code",
   "execution_count": null,
   "outputs": [],
   "source": [
    "y_pred = svc.predict(x_test_tf)\n",
    "print(classification_report(y_pred, y_test))"
   ],
   "metadata": {
    "collapsed": false,
    "pycharm": {
     "name": "#%%\n"
    }
   }
  },
  {
   "cell_type": "code",
   "execution_count": null,
   "outputs": [],
   "source": [],
   "metadata": {
    "collapsed": false,
    "pycharm": {
     "name": "#%%\n"
    }
   }
  },
  {
   "cell_type": "code",
   "execution_count": 21,
   "metadata": {},
   "outputs": [],
   "source": [
    "from sklearn.metrics import confusion_matrix, classification_report"
   ]
  },
  {
   "cell_type": "code",
   "execution_count": 37,
   "metadata": {},
   "outputs": [
    {
     "data": {
      "text/plain": [
       "array([[ 3438,    12,     0,     2,     0,     0,     8,    18,     0,\n",
       "            0,     2,     0,    25,     7,     0,     5,     0,    23,\n",
       "            2,     6,     0,     0,     0,     5,     0,     0],\n",
       "       [    3,  2070,     2,     5,     6,     0,     7,     2,     0,\n",
       "            0,     2,     0,     1,     0,     6,     0,     2,     4,\n",
       "            1,     0,     0,     0,     0,     0,     0,     6],\n",
       "       [    0,     1,  5824,     0,    23,     1,     6,     0,     0,\n",
       "            0,     4,     8,     0,     0,     5,     0,     0,     8,\n",
       "            2,     2,     1,     0,     0,     0,     0,     1],\n",
       "       [    1,    12,     0,  2425,     1,     0,     0,     0,     0,\n",
       "            4,     0,     0,     1,     4,    24,     6,     0,     0,\n",
       "            0,     0,     5,     0,     1,     0,     2,     1],\n",
       "       [    0,     4,     3,     0,  2801,     5,     0,     0,     1,\n",
       "            0,     1,     0,     0,     2,     0,     0,     0,     5,\n",
       "            2,     0,     2,     0,     0,     0,     0,     9],\n",
       "       [    0,     0,     0,     0,     0,   270,     0,     0,     0,\n",
       "            0,     0,     0,     0,     0,     0,     0,     0,     0,\n",
       "            0,     0,     0,     0,     0,     0,     0,     0],\n",
       "       [    0,     5,     1,     0,     2,     0,  1376,     0,     0,\n",
       "            0,     0,     0,     0,     0,     0,     0,     6,     0,\n",
       "            2,     2,     0,     0,     0,     0,     0,     0],\n",
       "       [    4,     0,     0,     0,     0,     0,     0,  1747,     0,\n",
       "            0,     2,     0,    21,     0,     0,     0,     0,     0,\n",
       "            0,     0,     0,     0,     3,     0,     5,     0],\n",
       "       [    0,     0,     0,     0,     0,     0,     0,     0,   267,\n",
       "            0,     0,     0,     0,     0,     0,     0,     0,     0,\n",
       "            0,     0,     0,     0,     0,     0,     0,     0],\n",
       "       [    0,     0,     0,     0,     0,     0,     0,     0,     7,\n",
       "         2055,     0,     0,     0,     0,     0,     0,     0,     0,\n",
       "           13,     0,     2,     0,     1,     0,     2,     0],\n",
       "       [    3,     0,     0,     0,     0,     0,     0,     0,     0,\n",
       "            0,  1346,     2,     1,     5,     0,     0,     0,     4,\n",
       "            0,     0,     2,     0,     0,    23,     0,     0],\n",
       "       [    1,     0,    13,     0,     9,     0,     0,     0,     0,\n",
       "            0,     1,  2875,     0,     0,     0,     0,     0,     2,\n",
       "            2,     0,     0,     0,     0,     2,     0,     4],\n",
       "       [    6,     3,     0,     1,     2,     0,     1,     4,     0,\n",
       "            0,     2,     0,  2989,     4,     0,     2,     1,     4,\n",
       "            0,     4,     2,     0,     0,     0,     6,     0],\n",
       "       [    2,     1,     0,     0,     0,     0,     0,    14,     0,\n",
       "            1,     1,     0,    38,  4708,     0,     0,     1,     2,\n",
       "            2,     0,     2,     2,    32,     2,     2,     0],\n",
       "       [    3,    29,     6,    85,     2,     0,     7,     0,     0,\n",
       "            4,     0,     0,     1,     6, 14409,     6,    42,     0,\n",
       "            8,     0,     4,     0,     0,     0,     2,     0],\n",
       "       [    3,     1,     1,     5,     0,    12,     0,     3,     0,\n",
       "            0,     3,     0,     0,     3,     4,  4805,    12,     8,\n",
       "            0,     3,     0,     0,     0,     0,     9,     2],\n",
       "       [    0,     2,     0,     2,     0,     0,    10,     0,     0,\n",
       "            0,     0,     0,     0,     0,     4,     5,  1365,     4,\n",
       "            2,     2,     0,     0,     0,     0,     0,     0],\n",
       "       [    0,     6,     0,     0,     4,     0,     0,     2,     0,\n",
       "            0,    11,     0,     0,     3,     0,     2,    18,  2823,\n",
       "            0,     0,     0,     0,     0,     2,     0,     2],\n",
       "       [    0,    18,     0,     8,     8,     1,    22,     0,     1,\n",
       "           31,     0,     2,     0,     0,     2,     0,     2,     0,\n",
       "        12063,     0,     0,     0,     0,     0,     7,     1],\n",
       "       [    0,     0,     0,     1,     0,     2,     2,     0,     0,\n",
       "           20,     0,     4,     1,     0,     0,     0,     0,     0,\n",
       "            2,  5603,     0,     0,     0,     0,    12,     2],\n",
       "       [    1,     0,     2,     0,     2,     0,     1,     5,     0,\n",
       "            4,    13,     2,     4,     4,     2,     0,     4,     1,\n",
       "            2,     0,  7230,     5,    21,     0,     6,     0],\n",
       "       [    0,     0,     0,     0,     0,     0,     0,     0,     0,\n",
       "            0,     0,     0,     0,     0,     0,     0,     0,     0,\n",
       "            0,     0,     0,  1030,     2,     5,     4,     0],\n",
       "       [    0,     0,     0,     0,     0,     0,     0,     4,     0,\n",
       "            0,     2,     0,     2,     5,     0,     0,     0,     1,\n",
       "            2,     0,     2,     1,  2634,     0,     0,     0],\n",
       "       [    2,     0,     0,     0,     0,     0,     0,     2,     1,\n",
       "            0,     8,     2,     0,     0,     0,     0,     0,     3,\n",
       "            0,     0,     0,     0,     0,  1515,     0,     2],\n",
       "       [    0,     2,     0,     0,     0,     0,     0,     3,     0,\n",
       "            2,     3,     0,     0,     2,     0,     4,     0,     0,\n",
       "            0,     2,     0,     7,     2,    11,  2658,     0],\n",
       "       [    0,     1,     0,     0,     0,     0,     0,     0,     3,\n",
       "            2,     0,     2,     0,     0,     0,     0,     0,     0,\n",
       "            0,     0,     0,     0,     0,     3,     0,  1489]],\n",
       "      dtype=int64)"
      ]
     },
     "execution_count": 37,
     "metadata": {},
     "output_type": "execute_result"
    }
   ],
   "source": [
    "y_pred = rf.predict(x_test)\n",
    "confusion_matrix(y_pred, y_test)"
   ]
  },
  {
   "cell_type": "code",
   "execution_count": 40,
   "metadata": {},
   "outputs": [
    {
     "name": "stdout",
     "output_type": "stream",
     "text": [
      "              precision    recall  f1-score   support\n",
      "\n",
      "           0       0.99      0.97      0.98      3553\n",
      "           1       0.96      0.98      0.97      2117\n",
      "           2       1.00      0.99      0.99      5886\n",
      "           3       0.96      0.98      0.97      2487\n",
      "           4       0.98      0.99      0.98      2835\n",
      "           5       0.93      1.00      0.96       270\n",
      "           6       0.96      0.99      0.97      1394\n",
      "           7       0.97      0.98      0.97      1782\n",
      "           8       0.95      1.00      0.98       267\n",
      "           9       0.97      0.99      0.98      2080\n",
      "          10       0.96      0.97      0.97      1386\n",
      "          11       0.99      0.99      0.99      2909\n",
      "          12       0.97      0.99      0.98      3031\n",
      "          13       0.99      0.98      0.98      4810\n",
      "          14       1.00      0.99      0.99     14614\n",
      "          15       0.99      0.99      0.99      4874\n",
      "          16       0.94      0.98      0.96      1396\n",
      "          17       0.98      0.98      0.98      2873\n",
      "          18       1.00      0.99      0.99     12166\n",
      "          19       1.00      0.99      0.99      5649\n",
      "          20       1.00      0.99      0.99      7309\n",
      "          21       0.99      0.99      0.99      1041\n",
      "          22       0.98      0.99      0.98      2653\n",
      "          23       0.97      0.99      0.98      1535\n",
      "          24       0.98      0.99      0.98      2696\n",
      "          25       0.98      0.99      0.99      1500\n",
      "\n",
      "    accuracy                           0.99     93113\n",
      "   macro avg       0.97      0.99      0.98     93113\n",
      "weighted avg       0.99      0.99      0.99     93113\n",
      "\n"
     ]
    }
   ],
   "source": [
    "print(classification_report(y_pred, y_test))"
   ]
  },
  {
   "cell_type": "code",
   "execution_count": 26,
   "metadata": {},
   "outputs": [],
   "source": [
    "from sklearn.linear_model import LogisticRegression\n",
    "from sklearn.preprocessing import StandardScaler"
   ]
  },
  {
   "cell_type": "code",
   "execution_count": 27,
   "metadata": {},
   "outputs": [],
   "source": [
    "scaler = StandardScaler()\n",
    "x_train_tf = scaler.fit_transform(x_train)\n",
    "x_test_tf = scaler.transform(x_test)"
   ]
  },
  {
   "cell_type": "code",
   "execution_count": 28,
   "metadata": {},
   "outputs": [
    {
     "name": "stderr",
     "output_type": "stream",
     "text": [
      "C:\\Users\\sujan\\Desktop\\Test Programs\\Projects\\Handwritten-Character-Recognition\\env\\lib\\site-packages\\sklearn\\linear_model\\_logistic.py:818: ConvergenceWarning: lbfgs failed to converge (status=1):\n",
      "STOP: TOTAL NO. of ITERATIONS REACHED LIMIT.\n",
      "\n",
      "Increase the number of iterations (max_iter) or scale the data as shown in:\n",
      "    https://scikit-learn.org/stable/modules/preprocessing.html\n",
      "Please also refer to the documentation for alternative solver options:\n",
      "    https://scikit-learn.org/stable/modules/linear_model.html#logistic-regression\n",
      "  extra_warning_msg=_LOGISTIC_SOLVER_CONVERGENCE_MSG,\n"
     ]
    },
    {
     "data": {
      "text/plain": [
       "LogisticRegression()"
      ]
     },
     "execution_count": 28,
     "metadata": {},
     "output_type": "execute_result"
    }
   ],
   "source": [
    "svc = LogisticRegression()\n",
    "svc.fit(x_train_tf, y_train)"
   ]
  },
  {
   "cell_type": "code",
   "execution_count": 29,
   "metadata": {},
   "outputs": [
    {
     "data": {
      "text/plain": [
       "0.8793938547786023"
      ]
     },
     "execution_count": 29,
     "metadata": {},
     "output_type": "execute_result"
    }
   ],
   "source": [
    "svc.score(x_test_tf, y_test)"
   ]
  },
  {
   "cell_type": "code",
   "execution_count": 30,
   "metadata": {},
   "outputs": [
    {
     "data": {
      "text/plain": [
       "0.8870002899723274"
      ]
     },
     "execution_count": 30,
     "metadata": {},
     "output_type": "execute_result"
    }
   ],
   "source": [
    "svc.score(x_train_tf, y_train)"
   ]
  },
  {
   "cell_type": "code",
   "execution_count": 31,
   "metadata": {},
   "outputs": [
    {
     "data": {
      "image/png": "[encoded data removed]",
      "text/plain": [
       "<Figure size 1152x1440 with 16 Axes>"
      ]
     },
     "metadata": {
      "needs_background": "light"
     },
     "output_type": "display_data"
    }
   ],
   "source": [
    "import matplotlib.pyplot as plt\n",
    "fig, ax = plt.subplots(4,4, figsize=(16,20))\n",
    "count = 0\n",
    "alphabets = [chr(i+ord('a')) for i in range(26)]\n",
    "for i in range(4):\n",
    "    for j in range(4):\n",
    "        ax[i,j].imshow(x_test[count].reshape(28,28), cmap=\"gray\")\n",
    "        ax[i,j].set_title(f\"original = {alphabets[y_test[count]]}\\n predicted = {alphabets[svc.predict([x_test_tf[count]])[0]]}\", fontsize=25)\n",
    "        ax[i,j].axis(\"off\")\n",
    "        count += 1"
   ]
  },
  {
   "cell_type": "code",
   "execution_count": 32,
   "metadata": {},
   "outputs": [
    {
     "name": "stdout",
     "output_type": "stream",
     "text": [
      "              precision    recall  f1-score   support\n",
      "\n",
      "           0       0.86      0.84      0.85      3534\n",
      "           1       0.77      0.86      0.81      1958\n",
      "           2       0.89      0.90      0.89      5823\n",
      "           3       0.78      0.83      0.80      2359\n",
      "           4       0.80      0.83      0.82      2764\n",
      "           5       0.82      0.89      0.86       268\n",
      "           6       0.78      0.84      0.81      1328\n",
      "           7       0.72      0.77      0.75      1673\n",
      "           8       0.78      0.94      0.85       234\n",
      "           9       0.80      0.80      0.80      2137\n",
      "          10       0.76      0.76      0.76      1398\n",
      "          11       0.94      0.91      0.92      3019\n",
      "          12       0.88      0.87      0.88      3127\n",
      "          13       0.82      0.81      0.81      4854\n",
      "          14       0.96      0.93      0.95     14818\n",
      "          15       0.92      0.90      0.91      4994\n",
      "          16       0.77      0.83      0.80      1336\n",
      "          17       0.79      0.81      0.80      2852\n",
      "          18       0.94      0.94      0.94     12094\n",
      "          19       0.94      0.92      0.93      5753\n",
      "          20       0.89      0.88      0.88      7344\n",
      "          21       0.88      0.90      0.89      1022\n",
      "          22       0.80      0.82      0.81      2633\n",
      "          23       0.82      0.83      0.82      1556\n",
      "          24       0.85      0.83      0.84      2784\n",
      "          25       0.85      0.89      0.87      1451\n",
      "\n",
      "    accuracy                           0.88     93113\n",
      "   macro avg       0.84      0.86      0.85     93113\n",
      "weighted avg       0.88      0.88      0.88     93113\n",
      "\n"
     ]
    }
   ],
   "source": [
    "y_pred = svc.predict(x_test_tf)\n",
    "print(classification_report(y_pred, y_test))"
   ]
  },
  {
   "cell_type": "code",
   "execution_count": null,
   "metadata": {},
   "outputs": [],
   "source": []
  }
 ],
 "metadata": {
  "kernelspec": {
   "display_name": "Python 3 (ipykernel)",
   "language": "python",
   "name": "python3"
  },
  "language_info": {
   "codemirror_mode": {
    "name": "ipython",
    "version": 3
   },
   "file_extension": ".py",
   "mimetype": "text/x-python",
   "name": "python",
   "nbconvert_exporter": "python",
   "pygments_lexer": "ipython3",
   "version": "3.7.0"
  }
 },
 "nbformat": 4,
 "nbformat_minor": 1
}